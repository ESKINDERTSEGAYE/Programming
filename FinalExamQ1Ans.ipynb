{
  "nbformat": 4,
  "nbformat_minor": 0,
  "metadata": {
    "colab": {
      "name": "Untitled5.ipynb",
      "provenance": [],
      "authorship_tag": "ABX9TyP1SjHx4cOTkKgZycotjpWL",
      "include_colab_link": true
    },
    "kernelspec": {
      "name": "python3",
      "display_name": "Python 3"
    },
    "language_info": {
      "name": "python"
    }
  },
  "cells": [
    {
      "cell_type": "markdown",
      "metadata": {
        "id": "view-in-github",
        "colab_type": "text"
      },
      "source": [
        "<a href=\"https://colab.research.google.com/github/ESKINDERTSEGAYE/Programming/blob/main/FinalExamQ1Ans.ipynb\" target=\"_parent\"><img src=\"https://colab.research.google.com/assets/colab-badge.svg\" alt=\"Open In Colab\"/></a>"
      ]
    },
    {
      "cell_type": "code",
      "execution_count": null,
      "metadata": {
        "id": "xEgWxll6O16e"
      },
      "outputs": [],
      "source": [
        "class graph:\n",
        "\n",
        "    def _init_(self, number_cities): # Create a graph with number of points \n",
        "        self.cities = number_cities\n",
        "        self.matrix = [[999 for i in range(self.cities)] for j in range(self.cities)] # initialize a matrix with vertices and a cost of 999 between every 2 points\n",
        "        self.color = [999 for i in range(self.cities)] # initialize an array of color if value is 999 we didn't visit the following point yet\n",
        "        self.cost = [999 for i in range(self.cities)] # initialize the cost of points \n",
        "        self.prev = [999 for i in range(self.cities)] # initialize an array that will contain the previous point \n",
        "\n",
        "    def add_edges(self, edges):\n",
        "        for i in range(len(edges)):\n",
        "            edge_src = edges[i][0]\n",
        "            edge_dst = edges[i][1]\n",
        "            edge_price = edges[i][2]\n",
        "            self.matrix[edge_src][edge_dst] = edge_price\n",
        "\n",
        "    def dijkstra(self, src, k):\n",
        "        self.cost[src] = 0\n",
        "        self.color[src] = 0\n",
        "        starting_point = src\n",
        "        visited_all_cities = False\n",
        "        while ( visited_all_cities == False ):\n",
        "            stops = 1\n",
        "            current_point = starting_point\n",
        "            while(self.prev[current_point] != src and starting_point != src and self.prev[current_point] != 999):\n",
        "                stops = stops + 1\n",
        "                current_point = self.prev[current_point]\n",
        "\n",
        "            for i in range(len(self.color)):\n",
        "                if self.matrix[starting_point][i] != 999:                    \n",
        "                    if stops <= k:\n",
        "                        if self.cost[i] > self.cost[starting_point] + self.matrix[starting_point][i]:\n",
        "                            self.cost[i] = self.cost[starting_point] + self.matrix[starting_point][i]\n",
        "                            self.prev[i] = starting_point\n",
        "            min = 1000\n",
        "            index = starting_point\n",
        "            non_visited = [i for i, e in enumerate(self.color) if e != 0] # check what are the points that we didn't visit yet\n",
        "            for i in non_visited:\n",
        "                if (self.cost[i] < min): # find the smallest cost from the array where we didn't visit yet \n",
        "                    min = self.cost[i]  \n",
        "                    index = i\n",
        "            if ( len(non_visited) == 0 ):\n",
        "                visited_all_cities = True\n",
        "            self.color[index] = 0\n",
        "            starting_point = index\n",
        "    \n",
        "    def price(self, dst):\n",
        "        if self.cost[dst] == 999:\n",
        "            return -1\n",
        "        else:\n",
        "            return self.cost[dst]\n",
        "\n",
        "    def shortest(n, edges, src, dst, k):\n",
        "    s = graph(n)\n",
        "    s.add_edges(edges)\n",
        "    s.dijkstra(src, k)\n",
        "    print(s.price(dst))\n",
        "\n",
        "n = 5\n",
        "edges = [[0,1,100],[1,2,100],[0,2,500],[1,3,25],[3,2,25], [3,4,3], [4,2,3]]\n",
        "src = 0\n",
        "dst = 2\n",
        "k = 1\n",
        "shortest(n, edges, src, dst, k)"
      ]
    }
  ]
}