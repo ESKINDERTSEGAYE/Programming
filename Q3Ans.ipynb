{
  "nbformat": 4,
  "nbformat_minor": 0,
  "metadata": {
    "colab": {
      "name": "Untitled7.ipynb",
      "provenance": [],
      "authorship_tag": "ABX9TyPHPH56d22WsQGA48YbzWRW",
      "include_colab_link": true
    },
    "kernelspec": {
      "name": "python3",
      "display_name": "Python 3"
    },
    "language_info": {
      "name": "python"
    }
  },
  "cells": [
    {
      "cell_type": "markdown",
      "metadata": {
        "id": "view-in-github",
        "colab_type": "text"
      },
      "source": [
        "<a href=\"https://colab.research.google.com/github/ESKINDERTSEGAYE/Programming/blob/main/Q3Ans.ipynb\" target=\"_parent\"><img src=\"https://colab.research.google.com/assets/colab-badge.svg\" alt=\"Open In Colab\"/></a>"
      ]
    },
    {
      "cell_type": "code",
      "execution_count": null,
      "metadata": {
        "id": "evJyrZ70qOkG"
      },
      "outputs": [],
      "source": [
        "def dfs(nums):\n",
        "    if len(nums)==1:\n",
        "        return abs(nums[0]-24) < 0.00000001\n",
        "    for i in range(len(nums)):\n",
        "        for j in range(i+1, len(nums)):\n",
        "            remaining = []\n",
        "            for k in range(len(nums)):\n",
        "                if k!=i and k!=j:\n",
        "                    remaining.append(nums[k])\n",
        "            poss = possibilities(nums[i], nums[j])\n",
        "            for permutation in poss:\n",
        "                if dfs(remaining+[permutation]):\n",
        "                    return True\n",
        "    return False\n",
        "              \n",
        "\n",
        "def possibilities(a, b):\n",
        "    if a!=0 and b!=0:\n",
        "        return [a+b, a-b, b-a, a*b, a/b, b/a]\n",
        "    elif a!=0:\n",
        "        return [a+b, a-b, b-a, a*b, b/a]\n",
        "    elif b!=0:\n",
        "        return [a+b, a-b, b-a, a*b, a/b]\n",
        "    else:\n",
        "        return [a+b, a-b, b-a, a*b]\n",
        "\n",
        "\n",
        "print(dfs([1,2,1,7]))"
      ]
    }
  ]
}