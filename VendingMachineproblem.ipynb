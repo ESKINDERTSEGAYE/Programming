{
  "nbformat": 4,
  "nbformat_minor": 0,
  "metadata": {
    "colab": {
      "name": "Untitled0.ipynb",
      "provenance": [],
      "collapsed_sections": [],
      "authorship_tag": "ABX9TyMbg8cqopAX8FRWIFzxRqG4",
      "include_colab_link": true
    },
    "kernelspec": {
      "name": "python3",
      "display_name": "Python 3"
    },
    "language_info": {
      "name": "python"
    }
  },
  "cells": [
    {
      "cell_type": "markdown",
      "metadata": {
        "id": "view-in-github",
        "colab_type": "text"
      },
      "source": [
        "<a href=\"https://colab.research.google.com/github/ESKINDERTSEGAYE/Programming/blob/main/VendingMachineproblem.ipynb\" target=\"_parent\"><img src=\"https://colab.research.google.com/assets/colab-badge.svg\" alt=\"Open In Colab\"/></a>"
      ]
    },
    {
      "cell_type": "code",
      "execution_count": 7,
      "metadata": {
        "colab": {
          "base_uri": "https://localhost:8080/"
        },
        "id": "YARlO2WIJi5Z",
        "outputId": "63878517-ee86-4c73-adb3-65fb2ca5fb81"
      },
      "outputs": [
        {
          "output_type": "stream",
          "name": "stdout",
          "text": [
            "[[5], [1, 2, 2], [2, 1, 2], [1, 1, 1, 2], [2, 2, 1], [1, 1, 2, 1], [1, 2, 1, 1], [2, 1, 1, 1], [1, 1, 1, 1, 1]]\n"
          ]
        }
      ],
      "source": [
        "#Eskinder Tsegaye Defar\n",
        "# ID(20215511)\n",
        "# TP-2 EX-2\n",
        "\n",
        "def comb(P, coins):    # Price P used as an input price\n",
        "    if P < 0:\n",
        "        return []      # If the price is less than zero then return empty square bracket\n",
        "    if P == 0:\n",
        "         return [[]]   # If the price is equal to zero then return empty double square bracket\n",
        "    combination = []\n",
        "\n",
        "    for coin in coins:\n",
        "        comb_list = comb(P - coin, coins) # is used to get the number of ways to choose coins from P-coin items without repetition and without order. \n",
        "        for c in comb_list:\n",
        "            c.append(coin) \n",
        "            combination.append(c) # adds all the combinations  of the coin till the end of the list\n",
        "\n",
        "    return combination\n",
        "\n",
        "print(comb(5, [100, 20, 10, 5, 2, 1])) # Here, we can print the number of all possible cominations that sum to price 5."
      ]
    }
  ]
}