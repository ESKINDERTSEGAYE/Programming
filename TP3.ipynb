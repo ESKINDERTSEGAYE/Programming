{
  "nbformat": 4,
  "nbformat_minor": 0,
  "metadata": {
    "colab": {
      "name": "Untitled4.ipynb",
      "provenance": [],
      "collapsed_sections": [],
      "authorship_tag": "ABX9TyP/vOeVxad8jPUSImnv9Kbk",
      "include_colab_link": true
    },
    "kernelspec": {
      "name": "python3",
      "display_name": "Python 3"
    },
    "language_info": {
      "name": "python"
    }
  },
  "cells": [
    {
      "cell_type": "markdown",
      "metadata": {
        "id": "view-in-github",
        "colab_type": "text"
      },
      "source": [
        "<a href=\"https://colab.research.google.com/github/ESKINDERTSEGAYE/Programming/blob/main/TP3.ipynb\" target=\"_parent\"><img src=\"https://colab.research.google.com/assets/colab-badge.svg\" alt=\"Open In Colab\"/></a>"
      ]
    },
    {
      "cell_type": "code",
      "execution_count": null,
      "metadata": {
        "id": "1zutZsdw0-y-"
      },
      "outputs": [],
      "source": [
        "#Eskinder Tsegaye Defar\n",
        "# ID(20215511)\n",
        "\n",
        "\n",
        "def pol_degree(coef, deg):\n",
        "    degree = 0 \n",
        "    for i in range(len(deg)):\n",
        "        if (deg[i] > degree ):\n",
        "            degree = deg[i]\n",
        "    return degree\n",
        "\n",
        "\n",
        "def sum(coef1, deg1, coef2, deg2):\n",
        "    degree_of_first_table = pol_degree(coef1, deg1)\n",
        "    degree_of_second_table = pol_degree(coef2, deg2)\n",
        "    if ( degree_of_first_table > degree_of_second_table):\n",
        "        result_coef = [0] * (degree_of_first_table+1)\n",
        "    else:\n",
        "        result_coef = [0] * (degree_of_second_table+1)\n",
        "    result_def = [0] * (len(result_coef))\n",
        "\n",
        "    for i in range(len(result_def)):\n",
        "        degree = deg1[i]\n",
        "        for j in range (len(coef2)):\n",
        "            if (deg2[j] == degree ): \n",
        "                result_coef[i] = result_coef[i] + coef1[i] + coef2[j] \n",
        "                result_def[i] = degree \n",
        "            elif(degree > deg2[j] and result_def[i] == 0 and result_coef[i] == 0): \n",
        "                result_coef[i] = coef1[i]\n",
        "                result_def[i] = deg1[i]\n",
        "\n",
        "    return result_coef, result_def\n",
        "\n",
        "def deriv(coef, deg):\n",
        "    deriv_coef = [0] * (len(coef))\n",
        "    deriv_deg = [0] * (len(deg))\n",
        "    for i in range(len(deg)):\n",
        "        deriv_deg[i] = deg[i] - 1\n",
        "        deriv_coef[i] = coef[i]*deg[i]\n",
        "    \n",
        "    return deriv_coef, deriv_deg"
      ]
    }
  ]
}