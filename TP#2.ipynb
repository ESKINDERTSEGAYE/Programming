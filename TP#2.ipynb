{
  "nbformat": 4,
  "nbformat_minor": 0,
  "metadata": {
    "colab": {
      "name": "Untitled3.ipynb",
      "provenance": [],
      "collapsed_sections": [],
      "authorship_tag": "ABX9TyPbE6MzAmUjIgc61pQTUid1",
      "include_colab_link": true
    },
    "kernelspec": {
      "name": "python3",
      "display_name": "Python 3"
    },
    "language_info": {
      "name": "python"
    }
  },
  "cells": [
    {
      "cell_type": "markdown",
      "metadata": {
        "id": "view-in-github",
        "colab_type": "text"
      },
      "source": [
        "<a href=\"https://colab.research.google.com/github/ESKINDERTSEGAYE/Programming/blob/main/TP%232.ipynb\" target=\"_parent\"><img src=\"https://colab.research.google.com/assets/colab-badge.svg\" alt=\"Open In Colab\"/></a>"
      ]
    },
    {
      "cell_type": "code",
      "source": [
        "#In this exercise we  will solve an expression by hand.\n",
        "\n",
        "#You program should receive a chain of characters S and estimates and generate the output of S:\n",
        "\n",
        "\n",
        "#For instance if  S = \"(((5 +3) -19) *(2+6))\" your program should output -88\n",
        "\n",
        "def eval(string):\n",
        "   arr=[]\n",
        "   j = 0\n",
        "   for i in range(len(string)):\n",
        "     if(string[i] != ' ' and i == j):\n",
        "       while string[j].isdigit() and j < len(string):\n",
        "         j = j + 1\n",
        "       if(string[i:j].isnumeric()):\n",
        "           arr.append(string[i:j])\n",
        "       else:\n",
        "           arr.append(string[i])\n",
        "           j = j + 1\n",
        "       if(string[i] ==')'):\n",
        "         print(arr)\n",
        "         result = 0\n",
        "         arr.pop()\n",
        "         a = arr.pop()\n",
        "         op = arr.pop()\n",
        "         b = arr.pop()\n",
        "         arr.pop()\n",
        "         if (op == '+'):\n",
        "           result = int(a) + int(b)\n",
        "         elif (op == '-'):\n",
        "           result = int(b) - int(a)\n",
        "         elif (op == '/'):\n",
        "           result = int(b) / int(a)\n",
        "         elif  (op == '*'):\n",
        "           result = int(b) * int(a)\n",
        "         arr.append(str(result))\n",
        "         print(arr)\n",
        "\n",
        "              \n"
      ],
      "metadata": {
        "id": "8ObJ1ikSbAm4"
      },
      "execution_count": 48,
      "outputs": []
    },
    {
      "cell_type": "code",
      "source": [
        "string = \"(((5+3)-1)*(2+6))\" \n",
        "# print((((5+3)-19)*(2+6)))\n",
        "eval(string) "
      ],
      "metadata": {
        "colab": {
          "base_uri": "https://localhost:8080/",
          "height": 322
        },
        "id": "XCuXvWrrKAXT",
        "outputId": "f0b87620-c818-4509-9e7b-8a141f95233c"
      },
      "execution_count": 50,
      "outputs": [
        {
          "output_type": "error",
          "ename": "TypeError",
          "evalue": "ignored",
          "traceback": [
            "\u001b[0;31m---------------------------------------------------------------------------\u001b[0m",
            "\u001b[0;31mTypeError\u001b[0m                                 Traceback (most recent call last)",
            "\u001b[0;32m<ipython-input-50-b76da3994f4c>\u001b[0m in \u001b[0;36m<module>\u001b[0;34m()\u001b[0m\n\u001b[1;32m      1\u001b[0m \u001b[0mstring\u001b[0m \u001b[0;34m=\u001b[0m \u001b[0;34m\"(((5+3)-1)*(2+6))\"\u001b[0m\u001b[0;34m\u001b[0m\u001b[0;34m\u001b[0m\u001b[0m\n\u001b[1;32m      2\u001b[0m \u001b[0;31m# print((((5+3)-19)*(2+6)))\u001b[0m\u001b[0;34m\u001b[0m\u001b[0;34m\u001b[0m\u001b[0;34m\u001b[0m\u001b[0m\n\u001b[0;32m----> 3\u001b[0;31m \u001b[0meval\u001b[0m\u001b[0;34m(\u001b[0m\u001b[0mstring\u001b[0m\u001b[0;34m)\u001b[0m\u001b[0;34m\u001b[0m\u001b[0;34m\u001b[0m\u001b[0m\n\u001b[0m",
            "\u001b[0;32m<ipython-input-48-1c628e393ca0>\u001b[0m in \u001b[0;36meval\u001b[0;34m(string)\u001b[0m\n\u001b[1;32m     19\u001b[0m            \u001b[0mj\u001b[0m \u001b[0;34m=\u001b[0m \u001b[0mj\u001b[0m \u001b[0;34m+\u001b[0m \u001b[0;36m1\u001b[0m\u001b[0;34m\u001b[0m\u001b[0;34m\u001b[0m\u001b[0m\n\u001b[1;32m     20\u001b[0m        \u001b[0;32mif\u001b[0m\u001b[0;34m(\u001b[0m\u001b[0mstring\u001b[0m\u001b[0;34m[\u001b[0m\u001b[0mi\u001b[0m\u001b[0;34m]\u001b[0m \u001b[0;34m==\u001b[0m\u001b[0;34m')'\u001b[0m\u001b[0;34m)\u001b[0m\u001b[0;34m:\u001b[0m\u001b[0;34m\u001b[0m\u001b[0;34m\u001b[0m\u001b[0m\n\u001b[0;32m---> 21\u001b[0;31m          \u001b[0mprint\u001b[0m\u001b[0;34m(\u001b[0m\u001b[0marr\u001b[0m\u001b[0;34m)\u001b[0m\u001b[0;34m\u001b[0m\u001b[0;34m\u001b[0m\u001b[0m\n\u001b[0m\u001b[1;32m     22\u001b[0m          \u001b[0mresult\u001b[0m \u001b[0;34m=\u001b[0m \u001b[0;36m0\u001b[0m\u001b[0;34m\u001b[0m\u001b[0;34m\u001b[0m\u001b[0m\n\u001b[1;32m     23\u001b[0m          \u001b[0marr\u001b[0m\u001b[0;34m.\u001b[0m\u001b[0mpop\u001b[0m\u001b[0;34m(\u001b[0m\u001b[0;34m)\u001b[0m\u001b[0;34m\u001b[0m\u001b[0;34m\u001b[0m\u001b[0m\n",
            "\u001b[0;31mTypeError\u001b[0m: 'int' object is not callable"
          ]
        }
      ]
    },
    {
      "cell_type": "code",
      "source": [
        ""
      ],
      "metadata": {
        "id": "20l4_G0KL7wY"
      },
      "execution_count": null,
      "outputs": []
    }
  ]
}