{
  "nbformat": 4,
  "nbformat_minor": 0,
  "metadata": {
    "colab": {
      "name": "Untitled6.ipynb",
      "provenance": [],
      "authorship_tag": "ABX9TyOoRAxT5nPKMPKw0o99WoQh",
      "include_colab_link": true
    },
    "kernelspec": {
      "name": "python3",
      "display_name": "Python 3"
    },
    "language_info": {
      "name": "python"
    }
  },
  "cells": [
    {
      "cell_type": "markdown",
      "metadata": {
        "id": "view-in-github",
        "colab_type": "text"
      },
      "source": [
        "<a href=\"https://colab.research.google.com/github/ESKINDERTSEGAYE/Programming/blob/main/Q2Ans.ipynb\" target=\"_parent\"><img src=\"https://colab.research.google.com/assets/colab-badge.svg\" alt=\"Open In Colab\"/></a>"
      ]
    },
    {
      "cell_type": "code",
      "execution_count": null,
      "metadata": {
        "id": "eiOvjc7Ijleu"
      },
      "outputs": [],
      "source": [
        "def car(target):\n",
        "  position=0 \n",
        "  speed=1 \n",
        "  cost=0\n",
        "  while position!=target:\n",
        "    position= position + speed\n",
        "    speed=speed*2\n",
        "    cost =cost+1\n",
        "    if position>target and speed >0:\n",
        "        speed =-1\n",
        "        cost=cost+1\n",
        "    if position<target and speed < 0:\n",
        "        speed =1\n",
        "        cost=cost+1\n",
        "  return cost"
      ]
    }
  ]
}