{
  "nbformat": 4,
  "nbformat_minor": 0,
  "metadata": {
    "colab": {
      "name": "Untitled0.ipynb",
      "provenance": [],
      "collapsed_sections": [],
      "authorship_tag": "ABX9TyMuSKT2kt1+WSj/OOHwCjNB",
      "include_colab_link": true
    },
    "kernelspec": {
      "name": "python3",
      "display_name": "Python 3"
    },
    "language_info": {
      "name": "python"
    }
  },
  "cells": [
    {
      "cell_type": "markdown",
      "metadata": {
        "id": "view-in-github",
        "colab_type": "text"
      },
      "source": [
        "<a href=\"https://colab.research.google.com/github/ESKINDERTSEGAYE/Programming/blob/main/Problem1.ipynb\" target=\"_parent\"><img src=\"https://colab.research.google.com/assets/colab-badge.svg\" alt=\"Open In Colab\"/></a>"
      ]
    },
    {
      "cell_type": "code",
      "metadata": {
        "colab": {
          "base_uri": "https://localhost:8080/",
          "height": 130
        },
        "id": "YM_lP4Ko6LTd",
        "outputId": "6b0aae10-a050-4d25-995c-af80734d7bf8"
      },
      "source": [
        "Question 1(A)\n",
        "def bellmanFord(A, x, y):\n",
        "    # E is a list of edges with weights\n",
        "    E = []\n",
        "    for i in xrange(len(A)):\n",
        "      for p in A[i]:\n",
        "        E += [[i] + p]\n",
        "    # dist[i] is the length of the shortest path to i\n",
        "    dist = [float(‘infinity’)]*len(A)\n",
        "    from = [-1]*len(A)\n",
        "    dist[x] = 0\n",
        "    for i in xrange(len(A) - 1):\n",
        "    for e in E:\n",
        "      u = e[0]\n",
        "      v = e[1]\n",
        "      weight = e[2]\n",
        "      if dist[u] + weight < dist[v]:\n",
        "        from[v] = u\n",
        "        dist[v] = weight\n",
        "    # look for negative weight cycles\n",
        "    for e in E:\n",
        "      u = e[0]\n",
        "      v = e[1]\n",
        "      weight = e[2]\n",
        "      if dist[u] + weight < dist[v]:\n",
        "        return -1\n",
        "    # build the shortest path, from the end to the beginning\n",
        "    L = []\n",
        "    at = y\n",
        "    while at != -1:\n",
        "      L += [at]\n",
        "      at = from[at]\n",
        "      L.reverse()\n",
        "      return L\n"
      ],
      "execution_count": 11,
      "outputs": [
        {
          "output_type": "error",
          "ename": "SyntaxError",
          "evalue": "ignored",
          "traceback": [
            "\u001b[0;36m  File \u001b[0;32m\"<ipython-input-11-f622b0aa9637>\"\u001b[0;36m, line \u001b[0;32m8\u001b[0m\n\u001b[0;31m    dist = [float(‘infinity’)]*len(A)\u001b[0m\n\u001b[0m                           ^\u001b[0m\n\u001b[0;31mSyntaxError\u001b[0m\u001b[0;31m:\u001b[0m invalid character in identifier\n"
          ]
        }
      ]
    },
    {
      "cell_type": "code",
      "metadata": {
        "id": "o5wuHybKBZV4"
      },
      "source": [
        ""
      ],
      "execution_count": null,
      "outputs": []
    },
    {
      "cell_type": "code",
      "metadata": {
        "id": "Q1xMkaM-BhSN"
      },
      "source": [
        "# findPath should be called with the next list that’s generated in\n",
        "# floyd Warshall\n",
        "def findPath(u, v, next):\n",
        "    # if there’s no intermediate vertex, we just directly take the\n",
        "    # edge (u,v)\n",
        "    if next[u][v] == -1:\n",
        "      return [u, v]\n",
        "    # otherwise we recurse. in the second recursion we don’t take the\n",
        "    # 0th element so that next[u][v] doesn’t show up twice in the\n",
        "    # final output\n",
        "    return findPath(u, next[u][v], next) + findPath(next[u][v], v, next)[1:]\n",
        "def floydWarshall(w):\n",
        "    # now dist is a copy of the weight function\n",
        "    dist = w[:]\n",
        "    next = []\n",
        "    for i in xrange(len(w)):\n",
        "      next += [[-1]*len(w)]\n",
        "\n",
        "    for k in xrange(len(w)):\n",
        "        for u in xrange(len(w)):\n",
        "          for v in xrange(len(w)):\n",
        "            if dist[u][k] + dist[k][v] < dist[u][v]:\n",
        "              dist[u][v] = dist[u][k] + dist[k][v]\n",
        "              next[u][v] = k\n",
        "    return dist"
      ],
      "execution_count": null,
      "outputs": []
    },
    {
      "cell_type": "markdown",
      "metadata": {
        "id": "xMOXnZVDBE6w"
      },
      "source": [
        ""
      ]
    },
    {
      "cell_type": "code",
      "metadata": {
        "id": "3dsXEbOJ6Cau"
      },
      "source": [
        ""
      ],
      "execution_count": null,
      "outputs": []
    },
    {
      "cell_type": "markdown",
      "metadata": {
        "id": "hln71tB96Hdu"
      },
      "source": [
        ""
      ]
    }
  ]
}