{
  "nbformat": 4,
  "nbformat_minor": 0,
  "metadata": {
    "colab": {
      "name": "Untitled1.ipynb",
      "provenance": [],
      "authorship_tag": "ABX9TyOYNswaeytpPrgXbXbjllZN",
      "include_colab_link": true
    },
    "kernelspec": {
      "name": "python3",
      "display_name": "Python 3"
    },
    "language_info": {
      "name": "python"
    }
  },
  "cells": [
    {
      "cell_type": "markdown",
      "metadata": {
        "id": "view-in-github",
        "colab_type": "text"
      },
      "source": [
        "<a href=\"https://colab.research.google.com/github/ESKINDERTSEGAYE/Programming/blob/main/Problem2.ipynb\" target=\"_parent\"><img src=\"https://colab.research.google.com/assets/colab-badge.svg\" alt=\"Open In Colab\"/></a>"
      ]
    },
    {
      "cell_type": "code",
      "metadata": {
        "id": "dD0LdIsfPuoN"
      },
      "source": [
        ""
      ],
      "execution_count": null,
      "outputs": []
    },
    {
      "cell_type": "code",
      "metadata": {
        "colab": {
          "base_uri": "https://localhost:8080/"
        },
        "id": "nd-6uCo2RRnw",
        "outputId": "9fa624fe-3fdc-4df3-fdd4-1d065271aa82"
      },
      "source": [
        "def findMaxLen(string):\n",
        "    n = len(string)\n",
        " \n",
        "    # Create a stack and push -1\n",
        "    # as initial index to it.\n",
        "    stk = []\n",
        "    stk.append(-1)\n",
        " \n",
        "    # Initialize result\n",
        "    result = 0\n",
        " \n",
        "    # Traverse all characters of given string\n",
        "    for i in range(n):\n",
        " \n",
        "        # If opening bracket, push index of it\n",
        "        if string[i] == '(':\n",
        "            stk.append(i)\n",
        "         \n",
        "        # If closing bracket, i.e., str[i] = ')'\n",
        "        else:  \n",
        " \n",
        "            # Pop the previous opening bracket's index\n",
        "            if len(stk) != 0:\n",
        "               stk.pop()\n",
        " \n",
        "            # Check if this length formed with base of\n",
        "            # current valid substring is more than max\n",
        "            # so far\n",
        "            if len(stk) != 0:\n",
        "                result = max(result,\n",
        "                             i - stk[len(stk)-1])\n",
        " \n",
        "            # If stack is empty. push current index as\n",
        "            # base for next valid substring (if any)\n",
        "            else:\n",
        "                stk.append(i)\n",
        " \n",
        "    return result\n",
        "\n",
        "# Driver code\n",
        "string = \"(()\"\n",
        " \n",
        "# Function call\n",
        "print (findMaxLen(string)) \n",
        " \n",
        "\n",
        "\n",
        "\n",
        " \n",
        "\n",
        " \n"
      ],
      "execution_count": 35,
      "outputs": [
        {
          "output_type": "stream",
          "name": "stdout",
          "text": [
            "2\n"
          ]
        }
      ]
    }
  ]
}