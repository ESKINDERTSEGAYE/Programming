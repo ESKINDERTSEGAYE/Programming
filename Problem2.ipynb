{
  "nbformat": 4,
  "nbformat_minor": 0,
  "metadata": {
    "colab": {
      "name": "Untitled1.ipynb",
      "provenance": [],
      "authorship_tag": "ABX9TyNxtViwo0KgU8ppnpDa93wb",
      "include_colab_link": true
    },
    "kernelspec": {
      "name": "python3",
      "display_name": "Python 3"
    },
    "language_info": {
      "name": "python"
    }
  },
  "cells": [
    {
      "cell_type": "markdown",
      "metadata": {
        "id": "view-in-github",
        "colab_type": "text"
      },
      "source": [
        "<a href=\"https://colab.research.google.com/github/ESKINDERTSEGAYE/Programming/blob/main/Problem2.ipynb\" target=\"_parent\"><img src=\"https://colab.research.google.com/assets/colab-badge.svg\" alt=\"Open In Colab\"/></a>"
      ]
    },
    {
      "cell_type": "code",
      "metadata": {
        "id": "dxdwEQwTNaBf"
      },
      "source": [
        "#Our goal is to look for the longest correct parentheses in the given string.\n",
        "# substring\n",
        "\n",
        "\n",
        "def findMaxLen(string):\n",
        "\tn = len(string)\n",
        "\n",
        "\t# Create a stack and push -1\n",
        "\t# as initial index to it.\n",
        "\tstk = []\n",
        "\tstk.append(-1)\n",
        "\n",
        "\t# Initialize result\n",
        "\tresult = 0\n",
        "\n",
        "\t# Traverse all characters of given string\n",
        "\tfor i in xrange(n):\n",
        "\n",
        "\t\t# If opening bracket, push index of it\n",
        "\t\tif string[i] == '(':\n",
        "\t\t\tstk.append(i)\n",
        "\t\t\n",
        "\t\t# If closing bracket, i.e., str[i] = ')'\n",
        "\t\telse:\n",
        "\n",
        "\t\t\t# Pop the previous opening bracket's index\n",
        "\t\t\tif len(stk) != 0:\n",
        "\t\t\tstk.pop()\n",
        "\n",
        "\t\t\t# Check if this length formed with base of\n",
        "\t\t\t# current valid substring is more than max\n",
        "\t\t\t# so far\n",
        "\t\t\tif len(stk) != 0:\n",
        "\t\t\t\tresult = max(result,\n",
        "\t\t\t\t\t\t\ti - stk[len(stk)-1])\n",
        "\n",
        "\t\t\t# If stack is empty. push current index as\n",
        "\t\t\t# base for next valid substring (if any)\n",
        "\t\t\telse:\n",
        "\t\t\t\tstk.append(i)\n",
        "\n",
        "\treturn result\n",
        "\n",
        "\n",
        "# Driver code\n",
        "s = \"(()\"\n",
        "\n",
        "# Function call\n",
        "print findMaxLen(s)\n",
        "\n",
        "s = \")()())\"\n",
        "\n",
        "# Function call\n",
        "print findMaxLen(s)\n",
        "\n",
        "\n"
      ],
      "execution_count": null,
      "outputs": []
    }
  ]
}