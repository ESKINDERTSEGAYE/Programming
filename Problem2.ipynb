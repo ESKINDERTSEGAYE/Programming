{
  "nbformat": 4,
  "nbformat_minor": 0,
  "metadata": {
    "colab": {
      "name": "Untitled1.ipynb",
      "provenance": [],
      "authorship_tag": "ABX9TyMzL0FVTU4N5SiyrgqAGJs+",
      "include_colab_link": true
    },
    "kernelspec": {
      "name": "python3",
      "display_name": "Python 3"
    },
    "language_info": {
      "name": "python"
    }
  },
  "cells": [
    {
      "cell_type": "markdown",
      "metadata": {
        "id": "view-in-github",
        "colab_type": "text"
      },
      "source": [
        "<a href=\"https://colab.research.google.com/github/ESKINDERTSEGAYE/Programming/blob/main/Problem2.ipynb\" target=\"_parent\"><img src=\"https://colab.research.google.com/assets/colab-badge.svg\" alt=\"Open In Colab\"/></a>"
      ]
    },
    {
      "cell_type": "code",
      "metadata": {
        "id": "dD0LdIsfPuoN"
      },
      "source": [
        ""
      ],
      "execution_count": null,
      "outputs": []
    },
    {
      "cell_type": "code",
      "metadata": {
        "id": "nd-6uCo2RRnw"
      },
      "source": [
        "def findMaxLen(string):\n",
        "    n = len(string)\n",
        " \n",
        "    # Create a stack and push -1\n",
        "    # as initial index to it.\n",
        "    stk = []\n",
        "    stk.append(-1)\n",
        " \n",
        "    # Initialize result\n",
        "    result = 0\n",
        " \n",
        "    # Traverse all characters of given string\n",
        "    for i in xrange(n):\n",
        " \n",
        "        # If opening bracket, push index of it\n",
        "        if string[i] == '(':\n",
        "            stk.append(i)\n",
        "         \n",
        "        # If closing bracket, i.e., str[i] = ')'\n",
        "        else:  \n",
        " \n",
        "            # Pop the previous opening bracket's index\n",
        "            if len(stk) != 0:\n",
        "               stk.pop()\n",
        " \n",
        "            # Check if this length formed with base of\n",
        "            # current valid substring is more than max\n",
        "            # so far\n",
        "            if len(stk) != 0:\n",
        "                result = max(result,\n",
        "                             i - stk[len(stk)-1])\n",
        " \n",
        "            # If stack is empty. push current index as\n",
        "            # base for next valid substring (if any)\n",
        "            else:\n",
        "                stk.append(i)\n",
        " \n",
        "    return result\n",
        "\n",
        "\n",
        " \n",
        "\n",
        " \n"
      ],
      "execution_count": 26,
      "outputs": []
    },
    {
      "cell_type": "code",
      "metadata": {
        "colab": {
          "base_uri": "https://localhost:8080/",
          "height": 130
        },
        "id": "c41z5t9fTzwY",
        "outputId": "f4db8e4e-cda1-46a9-d528-67e535771eba"
      },
      "source": [
        "# Driver code\n",
        "string = \"((()()\"\n",
        " \n",
        "# Function call\n",
        "print findMaxLen(string)\n",
        " \n",
        "string = \"()(()))))\"\n",
        " \n",
        "# Function call\n",
        "print findMaxLen(string)"
      ],
      "execution_count": 27,
      "outputs": [
        {
          "output_type": "error",
          "ename": "SyntaxError",
          "evalue": "ignored",
          "traceback": [
            "\u001b[0;36m  File \u001b[0;32m\"<ipython-input-27-ec3c50cbc86a>\"\u001b[0;36m, line \u001b[0;32m5\u001b[0m\n\u001b[0;31m    print findMaxLen(string)\u001b[0m\n\u001b[0m                   ^\u001b[0m\n\u001b[0;31mSyntaxError\u001b[0m\u001b[0;31m:\u001b[0m invalid syntax\n"
          ]
        }
      ]
    },
    {
      "cell_type": "code",
      "metadata": {
        "id": "XBz5CkPqTTFB"
      },
      "source": [
        ""
      ],
      "execution_count": null,
      "outputs": []
    },
    {
      "cell_type": "markdown",
      "metadata": {
        "id": "nsSmpsAmTQcO"
      },
      "source": [
        ""
      ]
    }
  ]
}