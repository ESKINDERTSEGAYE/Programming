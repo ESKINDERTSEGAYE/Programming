{
  "nbformat": 4,
  "nbformat_minor": 0,
  "metadata": {
    "colab": {
      "name": "Untitled5.ipynb",
      "provenance": [],
      "authorship_tag": "ABX9TyOlOkYDzpc5Vn0F33tq2/Iu",
      "include_colab_link": true
    },
    "kernelspec": {
      "name": "python3",
      "display_name": "Python 3"
    },
    "language_info": {
      "name": "python"
    }
  },
  "cells": [
    {
      "cell_type": "markdown",
      "metadata": {
        "id": "view-in-github",
        "colab_type": "text"
      },
      "source": [
        "<a href=\"https://colab.research.google.com/github/ESKINDERTSEGAYE/Programming/blob/main/Machine-Vision-Project-GAN.ipynb\" target=\"_parent\"><img src=\"https://colab.research.google.com/assets/colab-badge.svg\" alt=\"Open In Colab\"/></a>"
      ]
    },
    {
      "cell_type": "code",
      "execution_count": 1,
      "metadata": {
        "id": "74e8bmXzodI7"
      },
      "outputs": [],
      "source": [
        "import numpy as np\n",
        "import tensorflow as tf\n",
        "from tensorflow import keras"
      ]
    },
    {
      "cell_type": "code",
      "source": [
        "#Data Processing\n",
        "train = tfds.load(name= \"cats_vs_dogs\", split=\"train[50%:]\", shuffle_files=True)\n",
        "test = tfds.load(name= \"cats_vs_dogs\", split=\"test[50%:]\", shuffle_files=False)"
      ],
      "metadata": {
        "id": "fnmRnj6UCnyU"
      },
      "execution_count": null,
      "outputs": []
    }
  ]
}