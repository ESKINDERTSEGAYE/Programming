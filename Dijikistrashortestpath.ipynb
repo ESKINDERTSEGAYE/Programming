{
  "nbformat": 4,
  "nbformat_minor": 0,
  "metadata": {
    "colab": {
      "name": "Copy of Untitled0.ipynb",
      "provenance": [],
      "collapsed_sections": [],
      "include_colab_link": true
    },
    "kernelspec": {
      "name": "python3",
      "display_name": "Python 3"
    },
    "language_info": {
      "name": "python"
    }
  },
  "cells": [
    {
      "cell_type": "markdown",
      "metadata": {
        "id": "view-in-github",
        "colab_type": "text"
      },
      "source": [
        "<a href=\"https://colab.research.google.com/github/ESKINDERTSEGAYE/Programming/blob/main/Dijikistrashortestpath.ipynb\" target=\"_parent\"><img src=\"https://colab.research.google.com/assets/colab-badge.svg\" alt=\"Open In Colab\"/></a>"
      ]
    },
    {
      "cell_type": "code",
      "metadata": {
        "id": "YM_lP4Ko6LTd"
      },
      "source": [
        "#Eskinder Tsegaye Defar\n",
        "# ID(20215511)\n",
        "# TP-1\n",
        "#Question 1(A)\n",
        "\n",
        "def bellmanFord(A, x, y):\n",
        "    # E is a list of edges with weights\n",
        "    E = []\n",
        "    for i in range(len(A)):\n",
        "      for p in A[i]:\n",
        "        E += [[i] + p]\n",
        "    # dist[i] is the length of the shortest path to i\n",
        "    dist = [float(\"infinity\")]*len(A)\n",
        "    dist[x] = 0\n",
        "    for i in range(len(A) - 1):\n",
        "      for e in E:\n",
        "         u = e[0]\n",
        "         v = e[1]\n",
        "         weight = e[2]\n",
        "         if dist[u] + weight < dist[v]:\n",
        "           dist[v] = weight\n",
        "    # look for negative weight cycles\n",
        "    for e in E:\n",
        "      u = e[0]\n",
        "      v = e[1]\n",
        "      weight = e[2]\n",
        "      if dist[u] + weight < dist[v]:\n",
        "        return -1\n",
        "    # build the shortest path, from the end to the beginning\n",
        "    L = []\n",
        "    at = y\n",
        "    while at != -1:\n",
        "      L += [at]\n",
        "      L.reverse()\n",
        "      return L\n"
      ],
      "execution_count": null,
      "outputs": []
    },
    {
      "cell_type": "code",
      "metadata": {
        "id": "o5wuHybKBZV4"
      },
      "source": [
        "Question 1(B) Taking into account the duration of stopovers in d/t cities"
      ],
      "execution_count": null,
      "outputs": []
    },
    {
      "cell_type": "code",
      "metadata": {
        "id": "Q1xMkaM-BhSN"
      },
      "source": [
        "# findPath should be called with the next list that’s generated in\n",
        "# floyd Warshall\n",
        "def findPath(u, v, next):\n",
        "    # if there’s no intermediate vertex, we just directly take the\n",
        "    # edge (u,v)\n",
        "    if next[u][v] == -1:\n",
        "      return [u, v]\n",
        "    # otherwise we recurse. in the second recursion we don’t take the\n",
        "    # 0th element so that next[u][v] doesn’t show up twice in the\n",
        "    # final output\n",
        "    return findPath(u, next[u][v], next) + findPath(next[u][v], v, next)[1:]\n",
        "def floydWarshall(w):\n",
        "    # now dist is a copy of the weight function\n",
        "    dist = w[:]\n",
        "    next = []\n",
        "    for i in range(len(w)):\n",
        "      next += [[-1]*len(w)]\n",
        "\n",
        "    for k in range(len(w)):\n",
        "        for u in range(len(w)):\n",
        "          for v in range(len(w)):\n",
        "            if dist[u][k] + dist[k][v] < dist[u][v]:\n",
        "              dist[u][v] = dist[u][k] + dist[k][v]\n",
        "              next[u][v] = k\n",
        "    return dist"
      ],
      "execution_count": null,
      "outputs": []
    },
    {
      "cell_type": "code",
      "metadata": {
        "id": "3dsXEbOJ6Cau"
      },
      "source": [
        ""
      ],
      "execution_count": null,
      "outputs": []
    }
  ]
}