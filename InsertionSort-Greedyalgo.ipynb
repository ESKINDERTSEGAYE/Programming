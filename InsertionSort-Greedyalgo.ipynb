{
  "nbformat": 4,
  "nbformat_minor": 0,
  "metadata": {
    "colab": {
      "name": "Untitled2.ipynb",
      "provenance": [],
      "authorship_tag": "ABX9TyP86pyjckM/ZAPRu8K7m+XN",
      "include_colab_link": true
    },
    "kernelspec": {
      "name": "python3",
      "display_name": "Python 3"
    },
    "language_info": {
      "name": "python"
    }
  },
  "cells": [
    {
      "cell_type": "markdown",
      "metadata": {
        "id": "view-in-github",
        "colab_type": "text"
      },
      "source": [
        "<a href=\"https://colab.research.google.com/github/ESKINDERTSEGAYE/Programming/blob/main/InsertionSort-Greedyalgo.ipynb\" target=\"_parent\"><img src=\"https://colab.research.google.com/assets/colab-badge.svg\" alt=\"Open In Colab\"/></a>"
      ]
    },
    {
      "cell_type": "code",
      "execution_count": null,
      "metadata": {
        "id": "bhXQWAlsgZYS"
      },
      "outputs": [],
      "source": [
        "#Eskinder Tsegaye Defar\n",
        "# ID(20215511)\n",
        "# TP-4\n",
        "\n",
        "def insertionSort(arr):\n",
        "    # Sort the given array by finish time, so we start by the first task that finishes\n",
        "    for i in range(0, len(arr)):\n",
        " \n",
        "        key = arr[i][1]\n",
        "        start = arr[i][0]\n",
        "        j = i-1\n",
        "        while j >= 0 and key < arr[j][1] :\n",
        "                arr[j + 1][1] = arr[j][1]\n",
        "                arr[j + 1][0] = arr[j][0]\n",
        "                j -= 1\n",
        "        arr[j + 1][1] = key\n",
        "        arr[j + 1][0] = start\n",
        " \n",
        "    print(arr)\n",
        "\n",
        "def tasks(arr):\n",
        "    # greedy algorithm\n",
        "    a = [] # compatible tasks array\n",
        "    last = 0\n",
        "    for i in range(0, len(arr)):\n",
        "        #  check if the current task from the sorted array finishes before the \n",
        "        # last task added in the compatible array finishes so there is no overlap\n",
        "        # and since they are sorted by finish time we are selecting the tasks\n",
        "        # that start before than the one that finishes earlier.\n",
        "        if (arr[i][0] >= last):\n",
        "            a.append(arr[i])\n",
        "            last = arr[i][1]\n",
        "          \n",
        "    print(a)\n",
        "\n",
        "arr =  [[1,4],[0,6],[3,5],[12,13],[8,11],[8,12],[2,13],[6,10],[5,9],[3,8],[5,7],[13,16],[15,17],[16,19]]\n",
        "insertionSort(arr)\n",
        "tasks(arr)\n",
        "\n",
        "CONCLUSION:- Since it is sorting n^2, the time complexity is nlogn."
      ]
    }
  ]
}